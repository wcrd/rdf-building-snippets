{
 "cells": [
  {
   "cell_type": "markdown",
   "metadata": {},
   "source": [
    "# 01_equipment_for_a_space"
   ]
  },
  {
   "cell_type": "code",
   "execution_count": 3,
   "metadata": {},
   "outputs": [],
   "source": [
    "import os\n",
    "import sys\n",
    "module_path = os.path.abspath(os.path.join('..'))\n",
    "sys.path.append(module_path)"
   ]
  },
  {
   "cell_type": "code",
   "execution_count": 1,
   "metadata": {},
   "outputs": [],
   "source": [
    "import rdflib\n",
    "import pandas as pd"
   ]
  },
  {
   "cell_type": "code",
   "execution_count": 5,
   "metadata": {},
   "outputs": [],
   "source": [
    "from _helpers import g"
   ]
  },
  {
   "cell_type": "code",
   "execution_count": 37,
   "metadata": {},
   "outputs": [],
   "source": [
    "g.parse(\"01_equipment_for_a_space_model1.ttl\", format=\"turtle\");"
   ]
  },
  {
   "cell_type": "markdown",
   "metadata": {},
   "source": [
    "![](./01_equipment_for_a_space_model.png)"
   ]
  },
  {
   "cell_type": "markdown",
   "metadata": {},
   "source": [
    "## Query"
   ]
  },
  {
   "cell_type": "markdown",
   "metadata": {},
   "source": [
    "Basic query that gets all equipment feeding the target space, its children, or its parents."
   ]
  },
  {
   "cell_type": "code",
   "execution_count": 41,
   "metadata": {},
   "outputs": [],
   "source": [
    "sparql_query = \"\"\"\n",
    "SELECT *\n",
    "WHERE {\n",
    "    OPTIONAL {\n",
    "        {\n",
    "            BIND(\"self\" as ?rel)\n",
    "            ?target_room brick:isFedBy ?feed_equip .\n",
    "            ?feed_equip rdf:type/rdfs:subClassOf* brick:Equipment .\n",
    "        }\n",
    "        UNION {\n",
    "            BIND(\"parent\" as ?rel)\n",
    "            ?target_room brick:isPartOf+ ?related_room .\n",
    "            ?related_room rdf:type/rdfs:subClassOf* brick:Location .\n",
    "            ?related_room brick:isFedBy ?feed_equip .\n",
    "            ?feed_equip rdf:type/rdfs:subClassOf* brick:Equipment .\n",
    "        } \n",
    "        UNION {\n",
    "            BIND(\"child\" as ?rel)\n",
    "            ?target_room brick:hasPart+ ?related_room .\n",
    "            ?related_room rdf:type/rdfs:subClassOf* brick:Location .\n",
    "            ?related_room brick:isFedBy ?feed_equip .\n",
    "            ?feed_equip rdf:type/rdfs:subClassOf* brick:Equipment .\n",
    "        }\n",
    "    }\n",
    "}\n",
    "\"\"\""
   ]
  },
  {
   "cell_type": "code",
   "execution_count": 42,
   "metadata": {},
   "outputs": [],
   "source": [
    "res = g.query(sparql_query, initBindings={'target_room': rdflib.Namespace('urn:ex#')['open_plan_working_space']})"
   ]
  },
  {
   "cell_type": "code",
   "execution_count": 43,
   "metadata": {},
   "outputs": [
    {
     "data": {
      "text/html": [
       "<div>\n",
       "<style scoped>\n",
       "    .dataframe tbody tr th:only-of-type {\n",
       "        vertical-align: middle;\n",
       "    }\n",
       "\n",
       "    .dataframe tbody tr th {\n",
       "        vertical-align: top;\n",
       "    }\n",
       "\n",
       "    .dataframe thead th {\n",
       "        text-align: right;\n",
       "    }\n",
       "</style>\n",
       "<table border=\"1\" class=\"dataframe\">\n",
       "  <thead>\n",
       "    <tr style=\"text-align: right;\">\n",
       "      <th></th>\n",
       "      <th>?rel</th>\n",
       "      <th>?related_room</th>\n",
       "      <th>?feed_equip</th>\n",
       "      <th>?target_room</th>\n",
       "    </tr>\n",
       "  </thead>\n",
       "  <tbody>\n",
       "    <tr>\n",
       "      <th>0</th>\n",
       "      <td>self</td>\n",
       "      <td>None</td>\n",
       "      <td>urn:ex#fcu_1</td>\n",
       "      <td>urn:ex#open_plan_working_space</td>\n",
       "    </tr>\n",
       "    <tr>\n",
       "      <th>1</th>\n",
       "      <td>parent</td>\n",
       "      <td>urn:ex#floor_1</td>\n",
       "      <td>urn:ex#vav_3</td>\n",
       "      <td>urn:ex#open_plan_working_space</td>\n",
       "    </tr>\n",
       "    <tr>\n",
       "      <th>2</th>\n",
       "      <td>parent</td>\n",
       "      <td>urn:ex#floor_1</td>\n",
       "      <td>urn:ex#vav_4</td>\n",
       "      <td>urn:ex#open_plan_working_space</td>\n",
       "    </tr>\n",
       "    <tr>\n",
       "      <th>3</th>\n",
       "      <td>parent</td>\n",
       "      <td>urn:ex#cubicle_working_space</td>\n",
       "      <td>urn:ex#vav_1</td>\n",
       "      <td>urn:ex#open_plan_working_space</td>\n",
       "    </tr>\n",
       "    <tr>\n",
       "      <th>4</th>\n",
       "      <td>parent</td>\n",
       "      <td>urn:ex#cubicle_working_space</td>\n",
       "      <td>urn:ex#vav_2</td>\n",
       "      <td>urn:ex#open_plan_working_space</td>\n",
       "    </tr>\n",
       "    <tr>\n",
       "      <th>5</th>\n",
       "      <td>child</td>\n",
       "      <td>urn:ex#hot_desk_space</td>\n",
       "      <td>urn:ex#fcu_2</td>\n",
       "      <td>urn:ex#open_plan_working_space</td>\n",
       "    </tr>\n",
       "  </tbody>\n",
       "</table>\n",
       "</div>"
      ],
      "text/plain": [
       "     ?rel                 ?related_room   ?feed_equip  \\\n",
       "0    self                          None  urn:ex#fcu_1   \n",
       "1  parent                urn:ex#floor_1  urn:ex#vav_3   \n",
       "2  parent                urn:ex#floor_1  urn:ex#vav_4   \n",
       "3  parent  urn:ex#cubicle_working_space  urn:ex#vav_1   \n",
       "4  parent  urn:ex#cubicle_working_space  urn:ex#vav_2   \n",
       "5   child         urn:ex#hot_desk_space  urn:ex#fcu_2   \n",
       "\n",
       "                     ?target_room  \n",
       "0  urn:ex#open_plan_working_space  \n",
       "1  urn:ex#open_plan_working_space  \n",
       "2  urn:ex#open_plan_working_space  \n",
       "3  urn:ex#open_plan_working_space  \n",
       "4  urn:ex#open_plan_working_space  \n",
       "5  urn:ex#open_plan_working_space  "
      ]
     },
     "execution_count": 43,
     "metadata": {},
     "output_type": "execute_result"
    }
   ],
   "source": [
    "res_df = pd.DataFrame(res, columns=[v.toPython() for v in res.vars])\n",
    "res_df"
   ]
  },
  {
   "cell_type": "markdown",
   "metadata": {},
   "source": [
    "## Query 2"
   ]
  },
  {
   "cell_type": "markdown",
   "metadata": {},
   "source": [
    "Same query, but lets add path length"
   ]
  },
  {
   "cell_type": "code",
   "execution_count": 133,
   "metadata": {},
   "outputs": [],
   "source": [
    "sparql_query = \"\"\"\n",
    "SELECT *\n",
    "WHERE\n",
    "{\n",
    "    SELECT ?target_room ?related_room ?rel (count(*) as ?length) ?feed_equip\n",
    "    WHERE {\n",
    "        OPTIONAL {\n",
    "            {\n",
    "                BIND(\"self\" as ?rel)\n",
    "                ?target_room brick:isFedBy ?feed_equip .\n",
    "                ?feed_equip rdf:type/rdfs:subClassOf* brick:Equipment .\n",
    "            }\n",
    "            UNION {\n",
    "                BIND(\"parent\" as ?rel)\n",
    "                # Get path components between target and related room\n",
    "                ?target_room brick:isPartOf* ?mid_room .\n",
    "                ?mid_room brick:isPartOf ?mid_2_room .\n",
    "                ?mid_2_room brick:isPartOf* ?related_room .\n",
    "                ?related_room rdf:type/rdfs:subClassOf* brick:Location .\n",
    "                ?related_room brick:isFedBy ?feed_equip .\n",
    "                ?feed_equip rdf:type/rdfs:subClassOf* brick:Equipment .\n",
    "            } \n",
    "            UNION {\n",
    "                BIND(\"child\" as ?rel)\n",
    "                # Get path components between target and related room\n",
    "                ?target_room brick:hasPart* ?mid_room .\n",
    "                ?mid_room brick:hasPart ?mid_2_room .\n",
    "                ?mid_2_room brick:hasPart* ?related_room .\n",
    "                ?related_room rdf:type/rdfs:subClassOf* brick:Location .\n",
    "                ?related_room brick:isFedBy ?feed_equip .\n",
    "                ?feed_equip rdf:type/rdfs:subClassOf* brick:Equipment .\n",
    "            }\n",
    "        }\n",
    "    }\n",
    "    GROUP BY ?target_room ?related_room ?feed_equip\n",
    "}\n",
    "ORDER BY ?rel ?length\n",
    "\"\"\""
   ]
  },
  {
   "cell_type": "code",
   "execution_count": 134,
   "metadata": {},
   "outputs": [],
   "source": [
    "res = g.query(sparql_query, initBindings={'target_room': rdflib.Namespace('urn:ex#')['open_plan_working_space']})"
   ]
  },
  {
   "cell_type": "code",
   "execution_count": 135,
   "metadata": {},
   "outputs": [
    {
     "data": {
      "text/html": [
       "<div>\n",
       "<style scoped>\n",
       "    .dataframe tbody tr th:only-of-type {\n",
       "        vertical-align: middle;\n",
       "    }\n",
       "\n",
       "    .dataframe tbody tr th {\n",
       "        vertical-align: top;\n",
       "    }\n",
       "\n",
       "    .dataframe thead th {\n",
       "        text-align: right;\n",
       "    }\n",
       "</style>\n",
       "<table border=\"1\" class=\"dataframe\">\n",
       "  <thead>\n",
       "    <tr style=\"text-align: right;\">\n",
       "      <th></th>\n",
       "      <th>?target_room</th>\n",
       "      <th>?rel</th>\n",
       "      <th>?feed_equip</th>\n",
       "      <th>?length</th>\n",
       "      <th>?related_room</th>\n",
       "    </tr>\n",
       "  </thead>\n",
       "  <tbody>\n",
       "    <tr>\n",
       "      <th>0</th>\n",
       "      <td>urn:ex#open_plan_working_space</td>\n",
       "      <td>child</td>\n",
       "      <td>urn:ex#fcu_2</td>\n",
       "      <td>1</td>\n",
       "      <td>urn:ex#hot_desk_space</td>\n",
       "    </tr>\n",
       "    <tr>\n",
       "      <th>1</th>\n",
       "      <td>urn:ex#open_plan_working_space</td>\n",
       "      <td>parent</td>\n",
       "      <td>urn:ex#vav_1</td>\n",
       "      <td>1</td>\n",
       "      <td>urn:ex#cubicle_working_space</td>\n",
       "    </tr>\n",
       "    <tr>\n",
       "      <th>2</th>\n",
       "      <td>urn:ex#open_plan_working_space</td>\n",
       "      <td>parent</td>\n",
       "      <td>urn:ex#vav_2</td>\n",
       "      <td>1</td>\n",
       "      <td>urn:ex#cubicle_working_space</td>\n",
       "    </tr>\n",
       "    <tr>\n",
       "      <th>3</th>\n",
       "      <td>urn:ex#open_plan_working_space</td>\n",
       "      <td>parent</td>\n",
       "      <td>urn:ex#vav_3</td>\n",
       "      <td>2</td>\n",
       "      <td>urn:ex#floor_1</td>\n",
       "    </tr>\n",
       "    <tr>\n",
       "      <th>4</th>\n",
       "      <td>urn:ex#open_plan_working_space</td>\n",
       "      <td>parent</td>\n",
       "      <td>urn:ex#vav_4</td>\n",
       "      <td>2</td>\n",
       "      <td>urn:ex#floor_1</td>\n",
       "    </tr>\n",
       "    <tr>\n",
       "      <th>5</th>\n",
       "      <td>urn:ex#open_plan_working_space</td>\n",
       "      <td>self</td>\n",
       "      <td>urn:ex#fcu_1</td>\n",
       "      <td>1</td>\n",
       "      <td>None</td>\n",
       "    </tr>\n",
       "  </tbody>\n",
       "</table>\n",
       "</div>"
      ],
      "text/plain": [
       "                     ?target_room    ?rel   ?feed_equip ?length  \\\n",
       "0  urn:ex#open_plan_working_space   child  urn:ex#fcu_2       1   \n",
       "1  urn:ex#open_plan_working_space  parent  urn:ex#vav_1       1   \n",
       "2  urn:ex#open_plan_working_space  parent  urn:ex#vav_2       1   \n",
       "3  urn:ex#open_plan_working_space  parent  urn:ex#vav_3       2   \n",
       "4  urn:ex#open_plan_working_space  parent  urn:ex#vav_4       2   \n",
       "5  urn:ex#open_plan_working_space    self  urn:ex#fcu_1       1   \n",
       "\n",
       "                  ?related_room  \n",
       "0         urn:ex#hot_desk_space  \n",
       "1  urn:ex#cubicle_working_space  \n",
       "2  urn:ex#cubicle_working_space  \n",
       "3                urn:ex#floor_1  \n",
       "4                urn:ex#floor_1  \n",
       "5                          None  "
      ]
     },
     "execution_count": 135,
     "metadata": {},
     "output_type": "execute_result"
    }
   ],
   "source": [
    "res_df = pd.DataFrame(res, columns=[v.toPython() for v in res.vars])\n",
    "res_df"
   ]
  },
  {
   "cell_type": "markdown",
   "metadata": {},
   "source": [
    "Lets try from the perspective of the hot desking space"
   ]
  },
  {
   "cell_type": "code",
   "execution_count": 136,
   "metadata": {},
   "outputs": [],
   "source": [
    "res = g.query(sparql_query, initBindings={'target_room': rdflib.Namespace('urn:ex#')['hot_desk_space']})"
   ]
  },
  {
   "cell_type": "code",
   "execution_count": 137,
   "metadata": {},
   "outputs": [
    {
     "data": {
      "text/html": [
       "<div>\n",
       "<style scoped>\n",
       "    .dataframe tbody tr th:only-of-type {\n",
       "        vertical-align: middle;\n",
       "    }\n",
       "\n",
       "    .dataframe tbody tr th {\n",
       "        vertical-align: top;\n",
       "    }\n",
       "\n",
       "    .dataframe thead th {\n",
       "        text-align: right;\n",
       "    }\n",
       "</style>\n",
       "<table border=\"1\" class=\"dataframe\">\n",
       "  <thead>\n",
       "    <tr style=\"text-align: right;\">\n",
       "      <th></th>\n",
       "      <th>?target_room</th>\n",
       "      <th>?rel</th>\n",
       "      <th>?feed_equip</th>\n",
       "      <th>?length</th>\n",
       "      <th>?related_room</th>\n",
       "    </tr>\n",
       "  </thead>\n",
       "  <tbody>\n",
       "    <tr>\n",
       "      <th>0</th>\n",
       "      <td>urn:ex#hot_desk_space</td>\n",
       "      <td>parent</td>\n",
       "      <td>urn:ex#fcu_1</td>\n",
       "      <td>1</td>\n",
       "      <td>urn:ex#open_plan_working_space</td>\n",
       "    </tr>\n",
       "    <tr>\n",
       "      <th>1</th>\n",
       "      <td>urn:ex#hot_desk_space</td>\n",
       "      <td>parent</td>\n",
       "      <td>urn:ex#vav_1</td>\n",
       "      <td>2</td>\n",
       "      <td>urn:ex#cubicle_working_space</td>\n",
       "    </tr>\n",
       "    <tr>\n",
       "      <th>2</th>\n",
       "      <td>urn:ex#hot_desk_space</td>\n",
       "      <td>parent</td>\n",
       "      <td>urn:ex#vav_2</td>\n",
       "      <td>2</td>\n",
       "      <td>urn:ex#cubicle_working_space</td>\n",
       "    </tr>\n",
       "    <tr>\n",
       "      <th>3</th>\n",
       "      <td>urn:ex#hot_desk_space</td>\n",
       "      <td>parent</td>\n",
       "      <td>urn:ex#vav_3</td>\n",
       "      <td>3</td>\n",
       "      <td>urn:ex#floor_1</td>\n",
       "    </tr>\n",
       "    <tr>\n",
       "      <th>4</th>\n",
       "      <td>urn:ex#hot_desk_space</td>\n",
       "      <td>parent</td>\n",
       "      <td>urn:ex#vav_4</td>\n",
       "      <td>3</td>\n",
       "      <td>urn:ex#floor_1</td>\n",
       "    </tr>\n",
       "    <tr>\n",
       "      <th>5</th>\n",
       "      <td>urn:ex#hot_desk_space</td>\n",
       "      <td>self</td>\n",
       "      <td>urn:ex#fcu_2</td>\n",
       "      <td>1</td>\n",
       "      <td>None</td>\n",
       "    </tr>\n",
       "  </tbody>\n",
       "</table>\n",
       "</div>"
      ],
      "text/plain": [
       "            ?target_room    ?rel   ?feed_equip ?length  \\\n",
       "0  urn:ex#hot_desk_space  parent  urn:ex#fcu_1       1   \n",
       "1  urn:ex#hot_desk_space  parent  urn:ex#vav_1       2   \n",
       "2  urn:ex#hot_desk_space  parent  urn:ex#vav_2       2   \n",
       "3  urn:ex#hot_desk_space  parent  urn:ex#vav_3       3   \n",
       "4  urn:ex#hot_desk_space  parent  urn:ex#vav_4       3   \n",
       "5  urn:ex#hot_desk_space    self  urn:ex#fcu_2       1   \n",
       "\n",
       "                    ?related_room  \n",
       "0  urn:ex#open_plan_working_space  \n",
       "1    urn:ex#cubicle_working_space  \n",
       "2    urn:ex#cubicle_working_space  \n",
       "3                  urn:ex#floor_1  \n",
       "4                  urn:ex#floor_1  \n",
       "5                            None  "
      ]
     },
     "execution_count": 137,
     "metadata": {},
     "output_type": "execute_result"
    }
   ],
   "source": [
    "res_df = pd.DataFrame(res, columns=[v.toPython() for v in res.vars])\n",
    "res_df"
   ]
  }
 ],
 "metadata": {
  "kernelspec": {
   "display_name": "py38",
   "language": "python",
   "name": "python3"
  },
  "language_info": {
   "codemirror_mode": {
    "name": "ipython",
    "version": 3
   },
   "file_extension": ".py",
   "mimetype": "text/x-python",
   "name": "python",
   "nbconvert_exporter": "python",
   "pygments_lexer": "ipython3",
   "version": "3.8.13"
  },
  "orig_nbformat": 4
 },
 "nbformat": 4,
 "nbformat_minor": 2
}
